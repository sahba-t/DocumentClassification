{
 "cells": [
  {
   "cell_type": "markdown",
   "metadata": {
    "collapsed": false
   },
   "source": [
    "## Imports"
   ]
  },
  {
   "cell_type": "code",
   "execution_count": 1,
   "metadata": {},
   "outputs": [],
   "source": [
    "import pandas as pd\n",
    "import numpy as np\n",
    "import scipy\n",
    "from scipy import sparse\n",
    "from scipy.sparse import csr_matrix, lil_matrix\n",
    "import pickle\n",
    "import math"
   ]
  },
  {
   "cell_type": "markdown",
   "metadata": {},
   "source": [
    "## Preparing Matrices"
   ]
  },
  {
   "cell_type": "code",
   "execution_count": 33,
   "metadata": {},
   "outputs": [
    {
     "name": "stdout",
     "output_type": "stream",
     "text": "(20, 61189)\n(12000, 61189)\nTrue\n(61189, 12000)\n(20, 12000)\n14\n14\nTrue\n"
    }
   ],
   "source": [
    "# the number of features\n",
    "n = 61188\n",
    "#number of classes\n",
    "K = 20\n",
    "#training instances\n",
    "M = 12000\n",
    "\n",
    "training_labels = np.load('../res/lr_labels.npy')\n",
    "weights_matrix = np.random.rand(K, n + 1)\n",
    "# weights_sparse is the W matrix in the pdf\n",
    "weights_sparse = sparse.csr_matrix(weights_matrix)\n",
    "training_data_sparse = sparse.load_npz('../res/lr_training_data.npz')\n",
    "print(weights_sparse.shape)\n",
    "print(training_data_sparse.shape)\n",
    "\n",
    "XT = training_data_sparse.transpose()\n",
    "print(scipy.sparse.issparse(XT))\n",
    "print(XT.shape)\n",
    "\n",
    "\n",
    "delta = lil_matrix(np.zeros((K, M)), dtype = np.int16)\n",
    "for i,label in enumerate(training_labels):\n",
    "    delta[label - 1, i] = 1\n",
    "delta = delta.tocsr()\n",
    "print(delta.shape)\n",
    "# you see the index 1 mapping here: we need to be careful!\n",
    "#how to getb the true class of a training examples\n",
    "print(delta[:,0].nonzero()[0][0] + 1)\n",
    "print(training_labels[0])\n",
    "print(sparse.issparse(delta))"
   ]
  },
  {
   "cell_type": "code",
   "execution_count": 41,
   "metadata": {},
   "outputs": [],
   "source": [
    "ETHA = 0.005\n",
    "LAMBDA = 0.01\n",
    "for i in range(100):\n",
    "    #print(weights_sparse)    \n",
    "    pxy = (weights_sparse * XT).todense()\n",
    "    for j in range(M):\n",
    "        pxy[:,j] /= np.sum(pxy[:,j])\n",
    "    pxy = np.exp(pxy)\n",
    "    for j in range(M):\n",
    "        pxy[:,j] /= np.sum(pxy[:,j])\n",
    "    #print(pxy)\n",
    "    diff_exp = csr_matrix(delta - pxy)\n",
    "    new_w = weights_sparse + ETHA * (diff_exp * training_data_sparse - weights_sparse.multiply(LAMBDA))\n",
    "    weights_sparse = new_w\n",
    "    #print('new')\n",
    "    #np.nan_to_num(weights_sparse, copy=False)\n",
    "\n"
   ]
  },
  {
   "cell_type": "markdown",
   "metadata": {},
   "source": [
    "# Predictions\n"
   ]
  },
  {
   "cell_type": "code",
   "execution_count": 44,
   "metadata": {},
   "outputs": [
    {
     "name": "stdout",
     "output_type": "stream",
     "text": "(20, 61189)\n  (0, 0)\t-1.2703401135574384\n  (0, 1)\t-8.441419116835922\n  (0, 2)\t150.34149049550697\n  (0, 3)\t-1.6016214406555125\n  (0, 4)\t23.330566411874504\n  (0, 5)\t-40.74334982867327\n  (0, 6)\t0.6423139877735796\n  (0, 7)\t-2.142859887464675\n  (0, 8)\t-11.85714839326962\n  (0, 9)\t78.12838494453429\n  (0, 10)\t-0.2639643650052481\n  (0, 11)\t263.49222804783795\n  (0, 12)\t9.721247965672609\n  (0, 13)\t1.3540276150655894\n  (0, 14)\t14.450005500175271\n  (0, 15)\t-4.680598297063238\n  (0, 16)\t146.30306981282877\n  (0, 17)\t4.195894417558818\n  (0, 18)\t6.708242438431734\n  (0, 19)\t9.547424866773257\n  (0, 20)\t1.4423034348004347\n  (0, 21)\t2.145685315465034\n  (0, 22)\t-80.47964817857547\n  (0, 23)\t2.621351287779854\n  (0, 24)\t8.589272988063131\n  :\t:\n  (19, 61164)\t0.3188975532008873\n  (19, 61165)\t0.3230641040624321\n  (19, 61166)\t0.24570273666050188\n  (19, 61167)\t0.12810586278571143\n  (19, 61168)\t0.34169167167955483\n  (19, 61169)\t2.1190506471025943\n  (19, 61170)\t1.9354101135262642\n  (19, 61171)\t1.8540255950316407\n  (19, 61172)\t2.4134930698077675\n  (19, 61173)\t3.1943313581910897\n  (19, 61174)\t2.2326803621208815\n  (19, 61175)\t2.302201271059685\n  (19, 61176)\t4.87367100755856\n  (19, 61177)\t0.7588633098420455\n  (19, 61178)\t1.8819585412384254\n  (19, 61179)\t1.922756637213121\n  (19, 61180)\t0.6273555975036684\n  (19, 61181)\t0.23053773560954907\n  (19, 61182)\t0.5930509379104201\n  (19, 61183)\t1.8506049526900588\n  (19, 61184)\t2.227983682015519\n  (19, 61185)\t1.7235821692223188\n  (19, 61186)\t1.7010502257086877\n  (19, 61187)\t1.5612014644542\n  (19, 61188)\t-78.48961366585668\n"
    }
   ],
   "source": [
    "print(weights_sparse.shape)\n",
    "print(weights_sparse)\n"
   ]
  },
  {
   "cell_type": "code",
   "execution_count": 45,
   "metadata": {},
   "outputs": [
    {
     "name": "stdout",
     "output_type": "stream",
     "text": "5, (array([13], dtype=int32), array([0], dtype=int32))\n15, (array([15], dtype=int32), array([0], dtype=int32))\n18, (array([7], dtype=int32), array([0], dtype=int32))\n11, (array([10], dtype=int32), array([0], dtype=int32))\n11, (array([11], dtype=int32), array([0], dtype=int32))\n17, (array([6], dtype=int32), array([0], dtype=int32))\n16, (array([14], dtype=int32), array([0], dtype=int32))\n1, (array([5], dtype=int32), array([0], dtype=int32))\n17, (array([4], dtype=int32), array([0], dtype=int32))\n14, (array([4], dtype=int32), array([0], dtype=int32))\n15, (array([15], dtype=int32), array([0], dtype=int32))\n13, (array([3], dtype=int32), array([0], dtype=int32))\n5, (array([5], dtype=int32), array([0], dtype=int32))\n17, (array([0], dtype=int32), array([0], dtype=int32))\n15, (array([1], dtype=int32), array([0], dtype=int32))\n8, (array([6], dtype=int32), array([0], dtype=int32))\n0, (array([3], dtype=int32), array([0], dtype=int32))\n16, (array([16], dtype=int32), array([0], dtype=int32))\n1, (array([7], dtype=int32), array([0], dtype=int32))\n11, (array([3], dtype=int32), array([0], dtype=int32))\n"
    }
   ],
   "source": [
    "predictions = (weights_sparse * XT).todense()\n",
    "for j in range(M):\n",
    "    predictions[:,j] /= np.sum(predictions[:,j])\n",
    "predictions = np.exp(predictions)\n",
    "for j in range(M):\n",
    "    predictions[:,j] /= np.sum(predictions[:,j])\n",
    "for i in range(20):\n",
    "    #print(predictions[:,i])\n",
    "    print(np.argmax(predictions[:,i]) , end= ', ')\n",
    "    print(delta[:,i].nonzero())"
   ]
  }
 ],
 "metadata": {
  "kernelspec": {
   "name": "python3",
   "language": "python",
   "display_name": "Python 3"
  },
  "language_info": {
   "codemirror_mode": {
    "name": "ipython",
    "version": 3
   },
   "file_extension": ".py",
   "mimetype": "text/x-python",
   "name": "python",
   "nbconvert_exporter": "python",
   "pygments_lexer": "ipython3",
   "version": "3.7.3-final"
  },
  "pycharm": {
   "stem_cell": {
    "cell_type": "raw",
    "source": [],
    "metadata": {
     "collapsed": false
    }
   }
  }
 },
 "nbformat": 4,
 "nbformat_minor": 2
}