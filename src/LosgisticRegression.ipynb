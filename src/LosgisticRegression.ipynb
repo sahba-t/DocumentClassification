{
 "cells": [
  {
   "cell_type": "markdown",
   "execution_count": null,
   "metadata": {
    "collapsed": false
   },
   "outputs": [],
   "source": [
    "## Imports"
   ]
  },
  {
   "cell_type": "code",
   "execution_count": null,
   "metadata": {},
   "outputs": [],
   "source": [
    "import numpy as np\n",
    "from scipy import sparse\n",
    "from scipy.sparse import csr_matrix, lil_matrix\n",
    "import time"
   ]
  },
  {
   "cell_type": "markdown",
   "execution_count": null,
   "metadata": {},
   "outputs": [],
   "source": [
    "## Preparing Matrices"
   ]
  },
  {
   "cell_type": "code",
   "execution_count": null,
   "metadata": {},
   "outputs": [],
   "source": [
    "# the number of features\n",
    "n = 61188\n",
    "#number of classes\n",
    "K = 20\n",
    "#training instances\n",
    "M = 12000\n",
    "Normalize_X = False\n",
    "\n",
    "#this will hold the documents that get mixed togerher!\n",
    "confusion_matrix = np.zeros(shape=(21, 21), dtype=np.int16)\n",
    "\n",
    "training_labels = np.load('../res/lr_labels.npy')\n",
    "#loading the normalized training data!\n",
    "training_data_sparse = sparse.load_npz('../res/lr_training_data.npz')\n",
    "if Normalize_X:\n",
    "    training_data_sparse = training_data_sparse.multiply(training_data_sparse.sum(axis=0)).tocsr()\n",
    "XT = training_data_sparse.transpose()\n",
    "weights_matrix = np.random.rand(K, n + 1)\n",
    "# weights_sparse is the W matrix in the pdf\n",
    "weights_sparse = sparse.csr_matrix(weights_matrix, dtype=np.float)\n",
    "print('weights shape:', weights_sparse.shape)\n",
    "print('training data shape:', training_data_sparse.shape)\n",
    "print('training data transpose shape:', XT.shape)\n",
    "\n",
    "\n",
    "delta = lil_matrix(np.zeros((K, M)), dtype = np.int16)\n",
    "for i, label in enumerate(training_labels):\n",
    "    delta[label - 1, i] = 1\n",
    "delta = delta.tocsr()\n",
    "print('delta shape:', delta.shape)\n",
    "# you see the index 1 mapping here: we need to be careful!\n",
    "#how to get the true class of a training examples\n",
    "print(delta[:,0].nonzero()[0][0] + 1)\n",
    "print(training_labels[0])\n",
    "print(sparse.issparse(delta))"
   ]
  },
  {
   "cell_type": "markdown",
   "execution_count": null,
   "metadata": {},
   "outputs": [],
   "source": [
    "## LOAD WEIGHT MATRIX IF YOU WANT!"
   ]
  },
  {
   "cell_type": "code",
   "execution_count": null,
   "metadata": {},
   "outputs": [],
   "source": [
    "def load_weight_sparse(file_name):\n",
    "    global weights_sparse\n",
    "    weights_sparse = sparse.load_npz(file_name)\n",
    "# example : \n",
    "#load_weight_sparse(\"../res/weights_1000_runs_acc_85.npz\")"
   ]
  },
  {
   "cell_type": "markdown",
   "execution_count": null,
   "metadata": {},
   "outputs": [],
   "source": [
    "## Begin Training"
   ]
  },
  {
   "cell_type": "code",
   "execution_count": null,
   "metadata": {},
   "outputs": [],
   "source": [
    "ETHA = 0.005\n",
    "LAMBDA = 0.01\n",
    "EPOCH = 3000\n",
    "\n",
    "t0 = time.time()\n",
    "print(\"Started at:\", t0)\n",
    "for i in range(EPOCH):\n",
    "    # print(weights_sparse)    \n",
    "    pxy = weights_sparse * XT\n",
    "    #normalize before exp\n",
    "    pxy = pxy.multiply(1/pxy.sum(axis=0)).tocsr()\n",
    "    pxy = pxy.expm1().tocsr()\n",
    "    pxy = pxy.multiply(1/pxy.sum(axis=0)).tocsr()\n",
    "    diff_exp = delta - pxy\n",
    "    new_w = weights_sparse + ETHA * (diff_exp * training_data_sparse - weights_sparse.multiply(LAMBDA))\n",
    "    weights_sparse = new_w\n",
    "    if i % 100 == 0:\n",
    "        print(f\"epoch {i}\")\n",
    "    i += 1\n",
    "    # np.nan_to_num(weights_sparse, copy=False)\n",
    "\n",
    "t1 = time.time()\n",
    "print('Finished at:', t1, \"\\nTotal runtime:\", t1 - t0)"
   ]
  },
  {
   "cell_type": "markdown",
   "execution_count": null,
   "metadata": {},
   "outputs": [],
   "source": [
    "## Save Weights if you want"
   ]
  },
  {
   "cell_type": "code",
   "execution_count": null,
   "metadata": {},
   "outputs": [],
   "source": [
    "## SAVE WEIGHTS\n",
    "def save_weight(name=\"\"):\n",
    "    if not name:\n",
    "        import datetime\n",
    "        name = \"../res/weight_matrix\" + str(datetime.datatime.now())\n",
    "    else:\n",
    "        name = \"../res/\" + name\n",
    "    sparse.save_npz(name, weights_sparse)\n",
    "save_weight(\"weights_1000_runs_acc_85\")"
   ]
  },
  {
   "cell_type": "code",
   "execution_count": null,
   "metadata": {},
   "outputs": [],
   "source": [
    "print(weights_sparse.shape)                if actual < predicted:\n",
    "                    min_idx = \n",
    "print(weights_sparse)"
   ]
  },
  {
   "cell_type": "markdown",
   "execution_count": null,
   "metadata": {},
   "outputs": [],
   "source": [
    "## Testing"
   ]
  },
  {
   "cell_type": "code",
   "execution_count": null,
   "metadata": {},
   "outputs": [],
   "source": [
    "def test_weights(predictions, is_training=False):\n",
    "    correct = 0\n",
    "    predictions = predictions.multiply(1/predictions.sum(axis=0))\n",
    "    predictions = predictions.expm1()\n",
    "    predictions = predictions.multiply(1/predictions.sum(axis=0))\n",
    "    predictions = predictions.todense()\n",
    "    if is_training:\n",
    "        for i in range(predictions.shape[1]):\n",
    "            predicted = np.argmax(predictions[:,i]) + 1\n",
    "            actual = training_labels[i]\n",
    "            if predicted == actual:\n",
    "                correct += 1\n",
    "            else:\n",
    "                #doing the confusion matrix\n",
    "                min_idx = predicted\n",
    "                #the row says the real class the column says what class it was confused wth\n",
    "                confusion_matrix[actual, predicted] += 1\n",
    "        print(f\"Correct is {correct} and accuracy is {correct * 100/predictions.shape[1]}%\")\n",
    "        print(\"confusion matrix:\")\n",
    "        print(confusion_matrix)\n",
    "    else:\n",
    "        print('writing to file...')\n",
    "        with open('../results/lr_out.csv', 'w') as out_stream:\n",
    "            out_stream.write(\"id,class\\n\")\n",
    "            ids = range(12001, 18775)\n",
    "            for i in range(predictions.shape[1]):\n",
    "                predicted_label = np.argmax(predictions[:,i]) + 1\n",
    "                doc_id = ids[i]\n",
    "                out_stream.write(f\"{doc_id},{predicted_label}\\n\")\n",
    "    print(\"Finished\")"
   ]
  },
  {
   "cell_type": "markdown",
   "execution_count": null,
   "metadata": {
    "collapsed": false
   },
   "outputs": [],
   "source": [
    "### training accuracy"
   ]
  },
  {
   "cell_type": "code",
   "execution_count": null,
   "metadata": {},
   "outputs": [],
   "source": [
    "training_predictions = (weights_sparse * XT)\n",
    "test_weights(training_predictions, is_training=True)"
   ]
  },
  {
   "cell_type": "markdown",
   "execution_count": null,
   "metadata": {
    "collapsed": false
   },
   "outputs": [],
   "source": [
    "### training accuracy"
   ]
  },
  {
   "cell_type": "code",
   "execution_count": null,
   "metadata": {},
   "outputs": [],
   "source": [
    "testing_data_sparse = sparse.load_npz('../res/lr_testing_data.npz')\n",
    "test_XT = testing_data_sparse.transpose()\n",
    "test_weights(weights_sparse * test_XT)\n",
    "\n",
    "\n",
    "\n",
    "\n",
    "print('weights shape:', weights_sparse.shape)\n",
    "print('testing data shape:', testing_data_sparse.shape)\n",
    "print('testing data first column:', testing_data_sparse[:,0])\n",
    "print('training data first column:', training_data_sparse[:,0])\n",
    "# print('testing data transpose shape:', test_XT.shape)\n",
    "# testing_predictions = (weights_sparse * test_XT).todense()\n",
    "# test_weights(testing_predictions, is_training=False)"
   ]
  }
 ],
 "metadata": {
  "kernelspec": {
   "name": "python3",
   "language": "python",
   "display_name": "Python 3"
  },
  "language_info": {
   "codemirror_mode": {
    "name": "ipython",
    "version": 3
   },
   "file_extension": ".py",
   "mimetype": "text/x-python",
   "name": "python",
   "nbconvert_exporter": "python",
   "pygments_lexer": "ipython3",
   "version": "3.7.3-final"
  },
  "pycharm": {
   "stem_cell": {
    "cell_type": "raw",
    "source": [],
    "metadata": {
     "collapsed": false
    }
   }
  }
 },
 "nbformat": 4,
 "nbformat_minor": 2
}