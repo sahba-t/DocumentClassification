{
 "cells": [
  {
   "cell_type": "markdown",
   "execution_count": null,
   "metadata": {
    "collapsed": false
   },
   "outputs": [],
   "source": [
    "## Imports"
   ]
  },
  {
   "cell_type": "code",
   "execution_count": 1,
   "metadata": {
    "pycharm": {
     "is_executing": false
    }
   },
   "outputs": [],
   "source": [
    "import numpy as np\n",
    "from scipy import sparse\n",
    "from scipy.sparse import csr_matrix, lil_matrix\n",
    "import time"
   ]
  },
  {
   "cell_type": "markdown",
   "execution_count": null,
   "metadata": {},
   "outputs": [],
   "source": [
    "## Preparing Matrices"
   ]
  },
  {
   "cell_type": "code",
   "execution_count": 2,
   "metadata": {
    "pycharm": {
     "is_executing": false
    }
   },
   "outputs": [
    {
     "name": "stdout",
     "text": [
      "weights shape: (20, 61189)\n",
      "training data shape: (12000, 61189)\n",
      "training data transpose shape: (61189, 12000)\n",
      "delta shape: (20, 12000)\n",
      "14\n",
      "14\n",
      "True\n"
     ],
     "output_type": "stream"
    }
   ],
   "source": [
    "# the number of features\n",
    "n = 61188\n",
    "#number of classes\n",
    "K = 20\n",
    "#training instances\n",
    "M = 12000\n",
    "\n",
    "training_labels = np.load('../res/lr_labels.npy')\n",
    "training_data_sparse = sparse.load_npz('../res/lr_training_data.npz')\n",
    "XT = training_data_sparse.transpose()\n",
    "weights_matrix = np.random.rand(K, n + 1)\n",
    "# weights_sparse is the W matrix in the pdf\n",
    "weights_sparse = sparse.csr_matrix(weights_matrix)\n",
    "print('weights shape:', weights_sparse.shape)\n",
    "print('training data shape:', training_data_sparse.shape)\n",
    "print('training data transpose shape:', XT.shape)\n",
    "\n",
    "\n",
    "delta = lil_matrix(np.zeros((K, M)), dtype = np.int16)\n",
    "for i, label in enumerate(training_labels):\n",
    "    delta[label - 1, i] = 1\n",
    "delta = delta.tocsr()\n",
    "print('delta shape:', delta.shape)\n",
    "# you see the index 1 mapping here: we need to be careful!\n",
    "#how to get the true class of a training examples\n",
    "print(delta[:,0].nonzero()[0][0] + 1)\n",
    "print(training_labels[0])\n",
    "print(sparse.issparse(delta))"
   ]
  },
  {
   "cell_type": "code",
   "execution_count": 3,
   "metadata": {
    "pycharm": {
     "is_executing": false
    }
   },
   "outputs": [
    {
     "name": "stdout",
     "text": [
      "Started at: 1584503386.5443327\n",
      "Finished at: 1584506940.1326098 \n",
      "Total runtime: 3553.5882771015167\n"
     ],
     "output_type": "stream"
    }
   ],
   "source": [
    "ETHA = 0.005\n",
    "LAMBDA = 0.01\n",
    "EPOCH = 3000\n",
    "\n",
    "t0 = time.time()\n",
    "print(\"Started at:\", t0)\n",
    "for i in range(EPOCH):\n",
    "    # print(weights_sparse)    \n",
    "    pxy = (weights_sparse * XT).todense()\n",
    "    for j in range(M):\n",
    "        pxy[:, j] /= np.sum(pxy[:, j])\n",
    "    pxy = np.exp(pxy)\n",
    "    for j in range(M):\n",
    "        pxy[:, j] /= np.sum(pxy[:, j])\n",
    "    # print(pxy)\n",
    "    diff_exp = csr_matrix(delta - pxy)\n",
    "    new_w = weights_sparse + ETHA * (diff_exp * training_data_sparse - weights_sparse.multiply(LAMBDA))\n",
    "    weights_sparse = new_w\n",
    "    # np.nan_to_num(weights_sparse, copy=False)\n",
    "\n",
    "t1 = time.time()\n",
    "print('Finished at:', t1, \"\\nTotal runtime:\", t1 - t0)"
   ]
  },
  {
   "cell_type": "code",
   "execution_count": null,
   "outputs": [],
   "source": [
    "print(weights_sparse.shape)\n",
    "print(weights_sparse)"
   ],
   "metadata": {
    "collapsed": false,
    "pycharm": {
     "name": "#%%\n"
    }
   }
  },
  {
   "cell_type": "markdown",
   "execution_count": null,
   "metadata": {},
   "outputs": [],
   "source": [
    "## Testing"
   ]
  },
  {
   "cell_type": "code",
   "execution_count": 27,
   "metadata": {
    "pycharm": {
     "is_executing": false
    }
   },
   "outputs": [],
   "source": [
    "# xxx importing the normalized xs here BAD PROGRAMMING PRACTICE FIX WHEN NOT BLEEDING!\n",
    "def test_weights(predictions, is_training=False):\n",
    "    correct = 0\n",
    "    for j in range(predictions.shape[0]):\n",
    "        predictions[:,j] /= np.sum(predictions[:,j])\n",
    "    predictions = np.exp(predictions)\n",
    "    for j in range(predictions.shape[0]):\n",
    "        predictions[:,j] /= np.sum(predictions[:,j])\n",
    "        \n",
    "    if is_training:\n",
    "        for i in range(predictions.shape[1]):\n",
    "            predicted = np.argmax(predictions[:,i]) + 1\n",
    "            actual = training_labels[i]\n",
    "            if predicted == actual:\n",
    "                correct += 1\n",
    "        print(f\"Correct is {correct} and accuracy is {correct/predictions.shape[1]}\")\n",
    "    else:\n",
    "        print('writing to file...')\n",
    "        with open('../results/lr_out.csv', 'w') as out_stream:\n",
    "            out_stream.write(\"id,class\\n\")\n",
    "            ids = range(12001, 18775)\n",
    "            for i in range(predictions.shape[1]):\n",
    "                predicted_label = np.argmax(predictions[:,i]) + 1\n",
    "                doc_id = ids[i]\n",
    "                out_stream.write(f\"{doc_id},{predicted_label}\\n\")\n",
    "    print(\"Finished\")"
   ]
  },
  {
   "cell_type": "markdown",
   "source": [
    "### training accuracy"
   ],
   "metadata": {
    "collapsed": false
   }
  },
  {
   "cell_type": "code",
   "execution_count": null,
   "outputs": [],
   "source": [
    "training_predictions = (weights_sparse * XT).todense()\n",
    "test_weights(training_predictions, is_training=True)"
   ],
   "metadata": {
    "collapsed": false,
    "pycharm": {
     "name": "#%% \n"
    }
   }
  },
  {
   "cell_type": "markdown",
   "source": [
    "### training accuracy"
   ],
   "metadata": {
    "collapsed": false
   }
  },
  {
   "cell_type": "code",
   "execution_count": 28,
   "outputs": [
    {
     "name": "stdout",
     "text": [
      "weights shape: (20, 61189)\n",
      "testing data shape: (6774, 61189)\n",
      "testing data first column:   (8, 0)\t1\n",
      "  (27, 0)\t4\n",
      "  (152, 0)\t3\n",
      "  (247, 0)\t2\n",
      "  (282, 0)\t7\n",
      "  (312, 0)\t1\n",
      "  (332, 0)\t1\n",
      "  (347, 0)\t1\n",
      "  (363, 0)\t1\n",
      "  (440, 0)\t1\n",
      "  (627, 0)\t1\n",
      "  (803, 0)\t1\n",
      "  (848, 0)\t14\n",
      "  (927, 0)\t1\n",
      "  (962, 0)\t1\n",
      "  (1019, 0)\t11\n",
      "  (1036, 0)\t1\n",
      "  (1115, 0)\t5\n",
      "  (1160, 0)\t1\n",
      "  (1227, 0)\t1\n",
      "  (1242, 0)\t1\n",
      "  (1302, 0)\t1\n",
      "  (1312, 0)\t2\n",
      "  (1543, 0)\t1\n",
      "  (1587, 0)\t1\n",
      "  :\t:\n",
      "  (4497, 0)\t5\n",
      "  (4624, 0)\t3\n",
      "  (4694, 0)\t1\n",
      "  (4706, 0)\t1\n",
      "  (4747, 0)\t1\n",
      "  (4858, 0)\t1\n",
      "  (4875, 0)\t1\n",
      "  (5064, 0)\t1\n",
      "  (5109, 0)\t2\n",
      "  (5280, 0)\t1\n",
      "  (5308, 0)\t1\n",
      "  (5323, 0)\t1\n",
      "  (5335, 0)\t17\n",
      "  (5569, 0)\t3\n",
      "  (5686, 0)\t1\n",
      "  (5765, 0)\t1\n",
      "  (5797, 0)\t4\n",
      "  (6054, 0)\t1\n",
      "  (6088, 0)\t16\n",
      "  (6098, 0)\t1\n",
      "  (6122, 0)\t1\n",
      "  (6234, 0)\t1\n",
      "  (6394, 0)\t12\n",
      "  (6555, 0)\t2\n",
      "  (6722, 0)\t1\n",
      "training data first column:   (288, 0)\t4\n",
      "  (312, 0)\t1\n",
      "  (410, 0)\t1\n",
      "  (703, 0)\t1\n",
      "  (722, 0)\t25\n",
      "  (905, 0)\t4\n",
      "  (917, 0)\t1\n",
      "  (1051, 0)\t2\n",
      "  (1553, 0)\t1\n",
      "  (1690, 0)\t5\n",
      "  (1699, 0)\t7\n",
      "  (1761, 0)\t1\n",
      "  (1972, 0)\t1\n",
      "  (2012, 0)\t2\n",
      "  (2043, 0)\t1\n",
      "  (2057, 0)\t1\n",
      "  (2068, 0)\t1\n",
      "  (2139, 0)\t2\n",
      "  (2277, 0)\t1\n",
      "  (2427, 0)\t1\n",
      "  (2515, 0)\t1\n",
      "  (2537, 0)\t1\n",
      "  (2585, 0)\t25\n",
      "  (2609, 0)\t10\n",
      "  (2721, 0)\t1\n",
      "  :\t:\n",
      "  (10107, 0)\t1\n",
      "  (10214, 0)\t2\n",
      "  (10290, 0)\t4\n",
      "  (10329, 0)\t1\n",
      "  (10331, 0)\t2\n",
      "  (10391, 0)\t3\n",
      "  (10409, 0)\t11\n",
      "  (10522, 0)\t4\n",
      "  (10707, 0)\t1\n",
      "  (10933, 0)\t2\n",
      "  (10997, 0)\t1\n",
      "  (11025, 0)\t1\n",
      "  (11106, 0)\t1\n",
      "  (11144, 0)\t1\n",
      "  (11195, 0)\t1\n",
      "  (11273, 0)\t1\n",
      "  (11343, 0)\t1\n",
      "  (11394, 0)\t1\n",
      "  (11538, 0)\t1\n",
      "  (11561, 0)\t4\n",
      "  (11699, 0)\t1\n",
      "  (11876, 0)\t8\n",
      "  (11879, 0)\t1\n",
      "  (11885, 0)\t1\n",
      "  (11965, 0)\t2\n"
     ],
     "output_type": "stream"
    }
   ],
   "source": [
    "testing_data_sparse = sparse.load_npz('../res/lr_testing_data.npz')\n",
    "test_XT = testing_data_sparse.transpose()\n",
    "print('weights shape:', weights_sparse.shape)\n",
    "print('testing data shape:', testing_data_sparse.shape)\n",
    "print('testing data first column:', testing_data_sparse[:,0])\n",
    "print('training data first column:', training_data_sparse[:,0])\n",
    "# print('testing data transpose shape:', test_XT.shape)\n",
    "# testing_predictions = (weights_sparse * test_XT).todense()\n",
    "# test_weights(testing_predictions, is_training=False)"
   ],
   "metadata": {
    "collapsed": false,
    "pycharm": {
     "name": "#%% \n",
     "is_executing": false
    }
   }
  }
 ],
 "metadata": {
  "kernelspec": {
   "name": "python3",
   "language": "python",
   "display_name": "Python 3"
  },
  "language_info": {
   "codemirror_mode": {
    "name": "ipython",
    "version": 3
   },
   "file_extension": ".py",
   "mimetype": "text/x-python",
   "name": "python",
   "nbconvert_exporter": "python",
   "pygments_lexer": "ipython3",
   "version": "3.7.3-final"
  },
  "pycharm": {
   "stem_cell": {
    "cell_type": "raw",
    "source": [],
    "metadata": {
     "collapsed": false
    }
   }
  }
 },
 "nbformat": 4,
 "nbformat_minor": 2
}