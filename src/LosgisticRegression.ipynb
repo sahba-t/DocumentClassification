{
 "cells": [
  {
   "cell_type": "markdown",
   "metadata": {
    "collapsed": false
   },
   "source": [
    "## Imports"
   ]
  },
  {
   "cell_type": "code",
   "execution_count": 1,
   "metadata": {},
   "outputs": [],
   "source": [
    "import pandas as pd\n",
    "import numpy as np\n",
    "import scipy\n",
    "from scipy import sparse\n",
    "from scipy.sparse import csr_matrix, lil_matrix\n",
    "import pickle\n",
    "import math"
   ]
  },
  {
   "cell_type": "markdown",
   "metadata": {
    "collapsed": false
   },
   "source": [
    "## Global Container"
   ]
  },
  {
   "cell_type": "code",
   "execution_count": 2,
   "metadata": {},
   "outputs": [
    {
     "name": "stdout",
     "output_type": "stream",
     "text": "(20, 61188)\n(12000, 61189)\n"
    }
   ],
   "source": [
    "n = 61188\n",
    "K = 20\n",
    "M = 12000\n",
    "\n",
    "training_labels = np.load('../res/lr_labels.npy')\n",
    "weights_matrix = np.random.rand(20, n)\n",
    "weights_sparse = sparse.csr_matrix(weights_matrix)\n",
    "training_data_sparse = sparse.load_npz('../res/lr_training_data.npz')\n",
    "print(weights_sparse.shape)\n",
    "print(training_data_sparse.shape)\n",
    "# print(sparse_training_data.shape)"
   ]
  },
  {
   "cell_type": "markdown",
   "metadata": {
    "collapsed": false
   },
   "source": [
    "## Helper Functions"
   ]
  },
  {
   "cell_type": "markdown",
   "metadata": {
    "collapsed": false,
    "pycharm": {
     "name": "#%%\n"
    }
   },
   "source": [
    "## Preparing Matrices"
   ]
  },
  {
   "cell_type": "code",
   "execution_count": 16,
   "metadata": {},
   "outputs": [
    {
     "name": "stdout",
     "output_type": "stream",
     "text": "True\n(61189, 12000)\n(20, 61189)\n  (13, 0)\t1\n14\nTrue\n"
    }
   ],
   "source": [
    "XT = training_data_sparse.transpose()\n",
    "print(scipy.sparse.issparse(XT))\n",
    "print(XT.shape)\n",
    "W = csr_matrix(np.random.rand(K, n + 1))\n",
    "# the biases do not need to be one!\n",
    "# W[:,-1] = np.ones((K,1))\n",
    "print(W.shape)\n",
    "delta = lil_matrix(np.zeros((K, M)), dtype = np.int16)\n",
    "for i,label in enumerate(training_labels):\n",
    "    delta[label - 1, i] = 1\n",
    "delta = delta.tocsr()\n",
    "# you see the index 1 mapping here: we need to be careful!\n",
    "print(delta[:,0])\n",
    "print(training_labels[0])\n",
    "print(sparse.issparse(delta))\n"
   ]
  }
 ],
 "metadata": {
  "kernelspec": {
   "name": "python3",
   "language": "python",
   "display_name": "Python 3"
  },
  "language_info": {
   "codemirror_mode": {
    "name": "ipython",
    "version": 3
   },
   "file_extension": ".py",
   "mimetype": "text/x-python",
   "name": "python",
   "nbconvert_exporter": "python",
   "pygments_lexer": "ipython3",
   "version": "3.7.3-final"
  },
  "pycharm": {
   "stem_cell": {
    "cell_type": "raw",
    "source": [],
    "metadata": {
     "collapsed": false
    }
   }
  }
 },
 "nbformat": 4,
 "nbformat_minor": 2
}