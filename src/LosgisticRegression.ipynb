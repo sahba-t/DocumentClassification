{
 "cells": [
  {
   "cell_type": "markdown",
   "execution_count": null,
   "metadata": {
    "collapsed": false
   },
   "outputs": [],
   "source": [
    "## Imports"
   ]
  },
  {
   "cell_type": "code",
   "execution_count": null,
   "metadata": {},
   "outputs": [],
   "source": [
    "import pandas as pd\n",
    "import numpy as np\n",
    "import scipy\n",
    "from scipy import sparse\n",
    "from scipy.sparse import csr_matrix, lil_matrix\n",
    "import pickle\n",
    "import math"
   ]
  },
  {
   "cell_type": "markdown",
   "execution_count": null,
   "metadata": {},
   "outputs": [],
   "source": [
    "## Preparing Matrices"
   ]
  },
  {
   "cell_type": "code",
   "execution_count": null,
   "metadata": {},
   "outputs": [],
   "source": [
    "# the number of features\n",
    "n = 61188\n",
    "#number of classes\n",
    "K = 20\n",
    "#training instances\n",
    "M = 12000\n",
    "\n",
    "training_labels = np.load('../res/lr_labels.npy')\n",
    "weights_matrix = np.random.rand(K, n + 1)\n",
    "# weights_sparse is the W matrix in the pdf\n",
    "weights_sparse = sparse.csr_matrix(weights_matrix)\n",
    "training_data_sparse = sparse.load_npz('../res/lr_training_data.npz')\n",
    "print(weights_sparse.shape)\n",
    "print(training_data_sparse.shape)\n",
    "\n",
    "XT = training_data_sparse.transpose()\n",
    "print(scipy.sparse.issparse(XT))\n",
    "print(XT.shape)\n",
    "\n",
    "delta = lil_matrix(np.zeros((K, M)), dtype = np.int16)\n",
    "for i,label in enumerate(training_labels):\n",
    "    delta[label - 1, i] = 1\n",
    "delta = delta.tocsr()\n",
    "print(delta.shape)\n",
    "# you see the index 1 mapping here: we need to be careful!\n",
    "#how to getb the true class of a training examples\n",
    "print(delta[:,0].nonzero()[0][0] + 1)\n",
    "print(training_labels[0])\n",
    "print(sparse.issparse(delta))"
   ]
  },
  {
   "cell_type": "code",
   "execution_count": null,
   "metadata": {},
   "outputs": [],
   "source": [
    "ETHA = 0.005\n",
    "LAMBDA = 0.01\n",
    "XT = sparse.load_npz('../res/lr_training_data.npz').transpose()\n",
    "for i in range(50):\n",
    "    #print(weights_sparse)    \n",
    "    pxy = (weights_sparse * XT).todense()\n",
    "    for j in range(M):\n",
    "        pxy[:,j] /= np.sum(pxy[:,j])\n",
    "    pxy = np.exp(pxy)\n",
    "    for j in range(M):\n",
    "        pxy[:,j] /= np.sum(pxy[:,j])\n",
    "    #print(pxy)\n",
    "    diff_exp = csr_matrix(delta - pxy)\n",
    "    new_w = weights_sparse + ETHA * (diff_exp * training_data_sparse - weights_sparse.multiply(LAMBDA))\n",
    "    weights_sparse = new_w\n",
    "    #print('new')\n",
    "    #np.nan_to_num(weights_sparse, copy=False)\n",
    "\n"
   ]
  },
  {
   "cell_type": "markdown",
   "execution_count": null,
   "metadata": {},
   "outputs": [],
   "source": [
    "Test Prints"
   ]
  },
  {
   "cell_type": "code",
   "execution_count": null,
   "metadata": {},
   "outputs": [],
   "source": [
    "print(weights_sparse.shape)\n",
    "print(weights_sparse)\n"
   ]
  },
  {
   "cell_type": "code",
   "execution_count": null,
   "metadata": {},
   "outputs": [],
   "source": [
    "correct = 0\n",
    "# xxx importing the normalized xs here BAD PROGRAMMING PRACTICE FIX WHEN NOT BLEEDING!\n",
    "predictions = (weights_sparse * XT).todense()\n",
    "for j in range(M):\n",
    "    predictions[:,j] /= np.sum(predictions[:,j])\n",
    "predictions = np.exp(predictions)\n",
    "for j in range(M):\n",
    "    predictions[:,j] /= np.sum(predictions[:,j])\n",
    "for i in range(predictions.shape[1]):\n",
    "    #print(predictions[:,i])\n",
    "    predicted = np.argmax(predictions[:,i]) + 1\n",
    "    actural = training_labels[i]\n",
    "    if predicted == actural:\n",
    "        correct += 1\n",
    "print(f\"Corect is {correct} and accuracy is {correct/predictions.shape[1]}\")\n"
   ]
  }
 ],
 "metadata": {
  "kernelspec": {
   "name": "python3",
   "language": "python",
   "display_name": "Python 3"
  },
  "language_info": {
   "codemirror_mode": {
    "name": "ipython",
    "version": 3
   },
   "file_extension": ".py",
   "mimetype": "text/x-python",
   "name": "python",
   "nbconvert_exporter": "python",
   "pygments_lexer": "ipython3",
   "version": "3.7.3-final"
  },
  "pycharm": {
   "stem_cell": {
    "cell_type": "raw",
    "source": [],
    "metadata": {
     "collapsed": false
    }
   }
  }
 },
 "nbformat": 4,
 "nbformat_minor": 2
}