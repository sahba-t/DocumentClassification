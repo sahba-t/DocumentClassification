{
 "cells": [
  {
   "cell_type": "markdown",
   "metadata": {},
   "source": [
    "## Imports"
   ]
  },
  {
   "cell_type": "code",
   "execution_count": 1,
   "metadata": {
    "pycharm": {
     "is_executing": false
    }
   },
   "outputs": [],
   "source": [
    "import pandas as pd\n",
    "import numpy as np\n",
    "from scipy import sparse\n",
    "import timeit\n",
    "import matplotlib.pyplot as plt"
   ]
  },
  {
   "cell_type": "markdown",
   "metadata": {},
   "source": [
    "## load csv into dense matrix, then converts it to sparse matrix\n",
    "If \"res/sparse_training.data\" exists, **DO NOT** run cell as it will take awhile"
   ]
  },
  {
   "cell_type": "code",
   "execution_count": 2,
   "metadata": {
    "scrolled": false
   },
   "outputs": [],
   "source": [
    "def load_matrix():\n",
    "    dense_matrix = np.zeros(shape=(21, 61188), dtype=np.int16)\n",
    "    with open('../res/training.csv', 'r') as train_stream:\n",
    "        for i, line in enumerate(train_stream):\n",
    "            line_int = np.array(list(map(int, line.split(','))), dtype=np.int16)\n",
    "            doc_label = line_int[-1]\n",
    "            dense_matrix[doc_label] += line_int[1:-1]\n",
    "            print(i)\n",
    "        sparse_training = sparse.csr_matrix(dense_matrix)\n",
    "        sparse.save_npz('../res/sparse_training.data',sparse_training)\n",
    "        \n",
    "# load_matrix()"
   ]
  },
  {
   "cell_type": "markdown",
   "metadata": {},
   "source": [
    "## load the sparse matrix"
   ]
  },
  {
   "cell_type": "code",
   "execution_count": 3,
   "metadata": {
    "pycharm": {
     "is_executing": false
    }
   },
   "outputs": [
    {
     "name": "stdout",
     "output_type": "stream",
     "text": [
      "  (1, 0)\t9\n",
      "  (1, 1)\t53\n",
      "  (1, 2)\t237\n",
      "  (1, 3)\t11\n",
      "  (1, 4)\t48\n",
      "  (1, 5)\t36\n",
      "  (1, 6)\t7\n",
      "  (1, 7)\t1\n",
      "  (1, 8)\t31\n",
      "  (1, 9)\t127\n",
      "  (1, 10)\t5\n",
      "  (1, 11)\t4336\n",
      "  (1, 12)\t19\n",
      "  (1, 13)\t24\n",
      "  (1, 14)\t46\n",
      "  (1, 15)\t597\n",
      "  (1, 16)\t267\n",
      "  (1, 17)\t12\n",
      "  (1, 18)\t9\n",
      "  (1, 19)\t15\n",
      "  (1, 20)\t2\n",
      "  (1, 21)\t3\n",
      "  (1, 22)\t2985\n",
      "  (1, 23)\t4\n",
      "  (1, 24)\t325\n",
      "  :\t:\n",
      "  (20, 61146)\t1\n",
      "  (20, 61147)\t1\n",
      "  (20, 61148)\t1\n",
      "  (20, 61149)\t2\n",
      "  (20, 61150)\t1\n",
      "  (20, 61151)\t1\n",
      "  (20, 61152)\t1\n",
      "  (20, 61153)\t1\n",
      "  (20, 61154)\t1\n",
      "  (20, 61169)\t2\n",
      "  (20, 61170)\t2\n",
      "  (20, 61171)\t2\n",
      "  (20, 61172)\t3\n",
      "  (20, 61173)\t4\n",
      "  (20, 61174)\t2\n",
      "  (20, 61175)\t3\n",
      "  (20, 61176)\t6\n",
      "  (20, 61177)\t1\n",
      "  (20, 61178)\t2\n",
      "  (20, 61179)\t2\n",
      "  (20, 61183)\t2\n",
      "  (20, 61184)\t2\n",
      "  (20, 61185)\t2\n",
      "  (20, 61186)\t2\n",
      "  (20, 61187)\t2\n"
     ]
    }
   ],
   "source": [
    "sparse_training_data = sparse.load_npz('../res/sparse_training.data.npz')\n",
    "# print(sparse_training_data[21, 3])  \n",
    "print(sparse_training_data)"
   ]
  },
  {
   "cell_type": "markdown",
   "metadata": {},
   "source": [
    "## Creating global vars and consts"
   ]
  },
  {
   "cell_type": "code",
   "execution_count": 5,
   "metadata": {
    "pycharm": {
     "is_executing": false,
     "name": "#%%\n"
    }
   },
   "outputs": [],
   "source": [
    "UNIQUE_VOCAB = 61188\n",
    "TOTAL_VOCAB = sparse_training_data.sum()\n",
    "\n",
    "# the pxs used for mutual information\n",
    "pxs = np.zeros(61188, dtype=np.float)\n",
    "pxs_initialized=False\n",
    "\n",
    "set_list = [set() for x in range(0, 20)]\n",
    "class_row_dict = dict(zip(list(range(1, 21)), set_list))"
   ]
  },
  {
   "cell_type": "markdown",
   "metadata": {},
   "source": [
    "## Counting Priors and words"
   ]
  },
  {
   "cell_type": "code",
   "execution_count": 6,
   "metadata": {
    "pycharm": {
     "is_executing": false
    }
   },
   "outputs": [
    {
     "name": "stdout",
     "output_type": "stream",
     "text": [
      "[0.         0.04844692 0.05053315 0.05006954 0.05146036 0.04798331\n",
      " 0.05146036 0.05215577 0.05238758 0.05076495 0.04983774 0.05146036\n",
      " 0.04983774 0.04937413 0.05006954 0.05053315 0.05099675 0.05006954\n",
      " 0.05146036 0.04612888 0.04496987]\n"
     ]
    }
   ],
   "source": [
    "def count_priors():\n",
    "    word_id_ranges = list(range(1, 61189))\n",
    "    column_names =  ['doc_id'] + word_id_ranges + ['label']\n",
    "    p_counts = np.zeros(21, dtype=np.int16)\n",
    "    for i, data_chunk in enumerate(pd.read_csv('../res/training.csv', header=None, chunksize=200, names=column_names, usecols=['label'])): \n",
    "        for _, row in data_chunk.iterrows():\n",
    "            current_label = row['label']\n",
    "            class_row_dict[current_label].add(i)\n",
    "            i += 1\n",
    "    \n",
    "    for j in range(1, 21):\n",
    "        p_counts[j] = len(class_row_dict[j])\n",
    "    \n",
    "    return p_counts / p_counts.sum()\n",
    "\n",
    "prior_counts = count_priors()\n",
    "print(prior_counts) "
   ]
  },
  {
   "cell_type": "markdown",
   "metadata": {},
   "source": [
    "### Calculating Px|Y used for both Question 6 and also Fast NB "
   ]
  },
  {
   "cell_type": "code",
   "execution_count": 19,
   "metadata": {},
   "outputs": [],
   "source": [
    "#Calculate Pxgy\n",
    "MUTUAL_BETA= 0.004\n",
    "pxgy = np.array(sparse_training_data.todense(), dtype=np.float)\n",
    "total_words = {}\n",
    "for i in range(1,21):\n",
    "    total_words[i] = pxgy[i].sum()\n",
    "    pxgy[i]  = (pxgy[i] + MUTUAL_BETA) / (total_words[i] + (MUTUAL_BETA * TOTAL_VOCAB))\n",
    "\n"
   ]
  },
  {
   "cell_type": "markdown",
   "metadata": {},
   "source": [
    "## Mutual Information"
   ]
  },
  {
   "cell_type": "markdown",
   "metadata": {},
   "source": [
    "### Most Useful and lease useful words in the whole document. Using entropy"
   ]
  },
  {
   "cell_type": "code",
   "execution_count": 20,
   "metadata": {},
   "outputs": [
    {
     "name": "stdout",
     "output_type": "stream",
     "text": [
      "Most usefull words!\n",
      "doves\n",
      "uxarch\n",
      "amphiboly\n",
      "unipress\n",
      "equivocation\n",
      "vaxstation\n",
      "stellix\n",
      "joanne\n",
      "newbauer\n",
      "lewart\n",
      "allbery\n",
      "wjh\n",
      "xgoodies\n",
      "pierces\n",
      "muscularly\n",
      "totty\n",
      "listname\n",
      "xew\n",
      "slit\n",
      "libwxm\n",
      "antiquitam\n",
      "crumenam\n",
      "univision\n",
      "adnt\n",
      "ncsuvm\n",
      "chirurgie\n",
      "boutilie\n",
      "xware\n",
      "netoprwa\n",
      "kck\n",
      "poop\n",
      "emits\n",
      "doleh\n",
      "conor\n",
      "giza\n",
      "shite\n",
      "sinkhole\n",
      "reification\n",
      "nuucp\n",
      "usrx\n",
      "baruch\n",
      "quinton\n",
      "favourating\n",
      "ehm\n",
      "moondog\n",
      "fileselector\n",
      "ryner\n",
      "tamm\n",
      "wergo\n",
      "foolishly\n",
      "xpic\n",
      "serverses\n",
      "navigations\n",
      "hangspace\n",
      "convenients\n",
      "respectedly\n",
      "divaev\n",
      "rusian\n",
      "fsck\n",
      "ifconfig\n",
      "mxterm\n",
      "ziemans\n",
      "woodlice\n",
      "moonsoft\n",
      "chiquita\n",
      "scherf\n",
      "multilist\n",
      "stna\n",
      "causa\n",
      "dgac\n",
      "michanek\n",
      "searle\n",
      "bouron\n",
      "connolly\n",
      "xcrichtext\n",
      "equivalently\n",
      "thyme\n",
      "ignorantium\n",
      "xmt\n",
      "dovetail\n",
      "ceilidh\n",
      "arguer\n",
      "multidrop\n",
      "smebsb\n",
      "wccreate\n",
      "wcchildren\n",
      "nssl\n",
      "unpacking\n",
      "conformant\n",
      "hotbed\n",
      "cwm\n",
      "pswm\n",
      "jbis\n",
      "carlotto\n",
      "championed\n",
      "hoagland\n",
      "facelike\n",
      "kerwin\n",
      "prather\n",
      "tycchow\n",
      "\n",
      "----------------------------------\n",
      "useless words:\n",
      "\n",
      "the\n",
      "to\n",
      "of\n",
      "and\n",
      "in\n",
      "is\n",
      "that\n",
      "it\n",
      "for\n",
      "you\n",
      "on\n",
      "this\n",
      "have\n",
      "be\n",
      "with\n",
      "not\n",
      "are\n",
      "or\n",
      "as\n",
      "if\n",
      "but\n",
      "edu\n",
      "they\n",
      "was\n",
      "can\n",
      "from\n",
      "at\n",
      "my\n",
      "by\n",
      "an\n",
      "there\n",
      "what\n",
      "all\n",
      "will\n",
      "would\n",
      "one\n",
      "do\n",
      "writes\n",
      "about\n",
      "com\n",
      "he\n",
      "so\n",
      "we\n",
      "has\n",
      "your\n",
      "no\n",
      "any\n",
      "me\n",
      "article\n",
      "some\n",
      "out\n",
      "like\n",
      "which\n",
      "don\n",
      "just\n",
      "who\n",
      "more\n",
      "up\n",
      "when\n",
      "get\n",
      "know\n",
      "only\n",
      "other\n",
      "their\n",
      "how\n",
      "people\n",
      "them\n",
      "were\n",
      "than\n",
      "had\n",
      "also\n",
      "think\n",
      "been\n",
      "use\n",
      "his\n",
      "does\n",
      "time\n",
      "then\n",
      "new\n",
      "good\n",
      "am\n",
      "these\n",
      "could\n",
      "should\n",
      "well\n",
      "may\n",
      "very\n",
      "now\n",
      "because\n",
      "even\n",
      "into\n",
      "apr\n",
      "much\n",
      "ve\n",
      "see\n",
      "system\n",
      "two\n",
      "way\n",
      "first\n",
      "make\n"
     ]
    }
   ],
   "source": [
    "xjointy = pxgy.copy()\n",
    "enthropy = np.zeros(61188)\n",
    "for i in range(1,21):\n",
    "    xjointy[i] *= prior_counts[i]\n",
    "for i in range(61188):\n",
    "    marginal_val = xjointy[:,i].sum()\n",
    "    enthropy[i] =  marginal_val * np.log2(marginal_val)\n",
    "sorted_indices = enthropy.argsort()\n",
    "vocab_df = pd.read_csv('../res/vocabulary.txt', sep='\\n', header=None, names=[\"word\"])\n",
    "print(\"Most usefull words!\")\n",
    "for x in sorted_indices[-100:][::-1]:\n",
    "    print(vocab_df.iloc[x]['word'])\n",
    "    \n",
    "print(\"\\n----------------------------------\")\n",
    "print(\"useless words:\\n\")\n",
    "for x in sorted_indices[:100]:\n",
    "    print(vocab_df.iloc[x]['word'])\n"
   ]
  },
  {
   "cell_type": "markdown",
   "metadata": {},
   "source": [
    "### The following cell calculates the mutual information per document class"
   ]
  },
  {
   "cell_type": "code",
   "execution_count": 24,
   "metadata": {},
   "outputs": [
    {
     "name": "stdout",
     "output_type": "stream",
     "text": [
      "ignore warnings!\n",
      "pxs were calculated before. returning the result\n"
     ]
    },
    {
     "name": "stderr",
     "output_type": "stream",
     "text": [
      "/home/sahba/programFiles/miniconda3/lib/python3.7/site-packages/scipy/sparse/_index.py:118: SparseEfficiencyWarning: Changing the sparsity structure of a csr_matrix is expensive. lil_matrix is more efficient.\n",
      "  self._set_arrayXarray_sparse(i, j, x)\n",
      "/home/sahba/programFiles/miniconda3/lib/python3.7/site-packages/scipy/sparse/_index.py:118: SparseEfficiencyWarning: Changing the sparsity structure of a csr_matrix is expensive. lil_matrix is more efficient.\n",
      "  self._set_arrayXarray_sparse(i, j, x)\n",
      "/home/sahba/programFiles/miniconda3/lib/python3.7/site-packages/scipy/sparse/_index.py:118: SparseEfficiencyWarning: Changing the sparsity structure of a csr_matrix is expensive. lil_matrix is more efficient.\n",
      "  self._set_arrayXarray_sparse(i, j, x)\n",
      "/home/sahba/programFiles/miniconda3/lib/python3.7/site-packages/scipy/sparse/_index.py:118: SparseEfficiencyWarning: Changing the sparsity structure of a csr_matrix is expensive. lil_matrix is more efficient.\n",
      "  self._set_arrayXarray_sparse(i, j, x)\n",
      "/home/sahba/programFiles/miniconda3/lib/python3.7/site-packages/scipy/sparse/_index.py:118: SparseEfficiencyWarning: Changing the sparsity structure of a csr_matrix is expensive. lil_matrix is more efficient.\n",
      "  self._set_arrayXarray_sparse(i, j, x)\n",
      "/home/sahba/programFiles/miniconda3/lib/python3.7/site-packages/scipy/sparse/_index.py:118: SparseEfficiencyWarning: Changing the sparsity structure of a csr_matrix is expensive. lil_matrix is more efficient.\n",
      "  self._set_arrayXarray_sparse(i, j, x)\n",
      "/home/sahba/programFiles/miniconda3/lib/python3.7/site-packages/scipy/sparse/_index.py:118: SparseEfficiencyWarning: Changing the sparsity structure of a csr_matrix is expensive. lil_matrix is more efficient.\n",
      "  self._set_arrayXarray_sparse(i, j, x)\n",
      "/home/sahba/programFiles/miniconda3/lib/python3.7/site-packages/scipy/sparse/_index.py:118: SparseEfficiencyWarning: Changing the sparsity structure of a csr_matrix is expensive. lil_matrix is more efficient.\n",
      "  self._set_arrayXarray_sparse(i, j, x)\n",
      "/home/sahba/programFiles/miniconda3/lib/python3.7/site-packages/scipy/sparse/_index.py:118: SparseEfficiencyWarning: Changing the sparsity structure of a csr_matrix is expensive. lil_matrix is more efficient.\n",
      "  self._set_arrayXarray_sparse(i, j, x)\n",
      "/home/sahba/programFiles/miniconda3/lib/python3.7/site-packages/scipy/sparse/_index.py:118: SparseEfficiencyWarning: Changing the sparsity structure of a csr_matrix is expensive. lil_matrix is more efficient.\n",
      "  self._set_arrayXarray_sparse(i, j, x)\n",
      "/home/sahba/programFiles/miniconda3/lib/python3.7/site-packages/scipy/sparse/_index.py:118: SparseEfficiencyWarning: Changing the sparsity structure of a csr_matrix is expensive. lil_matrix is more efficient.\n",
      "  self._set_arrayXarray_sparse(i, j, x)\n",
      "/home/sahba/programFiles/miniconda3/lib/python3.7/site-packages/scipy/sparse/_index.py:118: SparseEfficiencyWarning: Changing the sparsity structure of a csr_matrix is expensive. lil_matrix is more efficient.\n",
      "  self._set_arrayXarray_sparse(i, j, x)\n",
      "/home/sahba/programFiles/miniconda3/lib/python3.7/site-packages/scipy/sparse/_index.py:118: SparseEfficiencyWarning: Changing the sparsity structure of a csr_matrix is expensive. lil_matrix is more efficient.\n",
      "  self._set_arrayXarray_sparse(i, j, x)\n",
      "/home/sahba/programFiles/miniconda3/lib/python3.7/site-packages/scipy/sparse/_index.py:118: SparseEfficiencyWarning: Changing the sparsity structure of a csr_matrix is expensive. lil_matrix is more efficient.\n",
      "  self._set_arrayXarray_sparse(i, j, x)\n",
      "/home/sahba/programFiles/miniconda3/lib/python3.7/site-packages/scipy/sparse/_index.py:118: SparseEfficiencyWarning: Changing the sparsity structure of a csr_matrix is expensive. lil_matrix is more efficient.\n",
      "  self._set_arrayXarray_sparse(i, j, x)\n",
      "/home/sahba/programFiles/miniconda3/lib/python3.7/site-packages/scipy/sparse/_index.py:118: SparseEfficiencyWarning: Changing the sparsity structure of a csr_matrix is expensive. lil_matrix is more efficient.\n",
      "  self._set_arrayXarray_sparse(i, j, x)\n",
      "/home/sahba/programFiles/miniconda3/lib/python3.7/site-packages/scipy/sparse/_index.py:118: SparseEfficiencyWarning: Changing the sparsity structure of a csr_matrix is expensive. lil_matrix is more efficient.\n",
      "  self._set_arrayXarray_sparse(i, j, x)\n",
      "/home/sahba/programFiles/miniconda3/lib/python3.7/site-packages/scipy/sparse/_index.py:118: SparseEfficiencyWarning: Changing the sparsity structure of a csr_matrix is expensive. lil_matrix is more efficient.\n",
      "  self._set_arrayXarray_sparse(i, j, x)\n",
      "/home/sahba/programFiles/miniconda3/lib/python3.7/site-packages/scipy/sparse/_index.py:118: SparseEfficiencyWarning: Changing the sparsity structure of a csr_matrix is expensive. lil_matrix is more efficient.\n",
      "  self._set_arrayXarray_sparse(i, j, x)\n",
      "/home/sahba/programFiles/miniconda3/lib/python3.7/site-packages/scipy/sparse/_index.py:118: SparseEfficiencyWarning: Changing the sparsity structure of a csr_matrix is expensive. lil_matrix is more efficient.\n",
      "  self._set_arrayXarray_sparse(i, j, x)\n"
     ]
    }
   ],
   "source": [
    "#calculates the p(X=xi) for all words\n",
    "def create_px():\n",
    "    global pxs_initialized\n",
    "    if not pxs_initialized:\n",
    "        print('generating all pxs this takes a few seconds')\n",
    "        for i in range(61188):\n",
    "            pxs[i] = sparse_training_data[:,i].sum()/TOTAL_VOCAB\n",
    "        pxs_initialized = True\n",
    "        print('pxs calculation complete!')    \n",
    "    else:\n",
    "        print('pxs were calculated before. returning the result')\n",
    "        \n",
    "# calculates the mutual information for all categories using the formula\n",
    "# MI = P(x,y) + log(p(x,y)/(p(x).p(y)))\n",
    "def calc_mutual():\n",
    "    create_px()\n",
    "    mutual_info = sparse_training_data.copy()\n",
    "    mutual_results = sparse.csr_matrix(np.zeros((21,61188)), dtype=np.float32)\n",
    "    non_zero_dict={}\n",
    "    for i in range(1,21):\n",
    "        row = mutual_info[i]\n",
    "        total_words = row.sum()\n",
    "        # print(row.shape)\n",
    "        non_zeros = mutual_info[i].nonzero()[1]\n",
    "        non_zero_dict[i] = non_zeros\n",
    "        # p(x|y)\n",
    "        pxgy = row.multiply(1/total_words)\n",
    "        pxy = pxgy.multiply(prior_counts[i])\n",
    "        pxgy[0,non_zeros] = np.log1p(pxgy[0,non_zeros].multiply(1/pxs[non_zeros]))\n",
    "        mutual_results[i, non_zeros] = pxy[0, non_zeros] + pxgy[0, non_zeros]\n",
    "    return mutual_results\n",
    "\n",
    "def print_mutual_results(mutual_results, vocab_df, doc_class_df, top_words=5):\n",
    "    results_dense =  mutual_results.todense()\n",
    "    best_words=[\"x\"] * top_words\n",
    "    worst_words = [\"x\"] * top_words\n",
    "    for i in range(1, 21):\n",
    "        row_dense = results_dense[i]\n",
    "        arg_maxes = row_dense.argsort()\n",
    "        print(doc_class_df.iloc[i-1]['doc_class'])\n",
    "        best_indices = arg_maxes[0,-top_words:][::-1]\n",
    "        worst_indices = arg_maxes[0,:top_words]\n",
    "        for ii in range(top_words):\n",
    "            best_index = best_indices[0,ii]\n",
    "            worst_index = worst_indices[0,ii]\n",
    "            best_words[ii] = vocab_df.iloc[best_index].word\n",
    "            worst_words[ii] = vocab_df.iloc[worst_index].word\n",
    "        print('most useful words')\n",
    "        print(best_words)\n",
    "        print('least useful words')\n",
    "        print(worst_words)\n",
    "\n",
    "print(\"ignore warnings!\")\n",
    "mutual_results = calc_mutual()"
   ]
  },
  {
   "cell_type": "markdown",
   "metadata": {},
   "source": [
    "### The foloowing cell analyzes the mutual information calculations per document class"
   ]
  },
  {
   "cell_type": "code",
   "execution_count": 25,
   "metadata": {
    "pycharm": {
     "name": "#%%\n"
    }
   },
   "outputs": [
    {
     "name": "stdout",
     "output_type": "stream",
     "text": [
      "1 alt.atheism\n",
      "most useful words\n",
      "['darice', 'buphy', 'bobbe', 'beauchaine', 'mozumder']\n",
      "least useful words\n",
      "['vijay', 'elaine', 'magnetometer', 'typ', 'jjj']\n",
      "2 comp.graphics\n",
      "most useful words\n",
      "['nfotis', 'radiosity', 'siggraph', 'pov', 'rayshade']\n",
      "least useful words\n",
      "['vijay', 'scuttle', 'definetly', 'rectifies', 'chops']\n",
      "3 comp.os.ms-windows.misc\n",
      "most useful words\n",
      "['ashok', 'louray', 'vgalogo', 'qw', 'rlk']\n",
      "least useful words\n",
      "['vijay', 'recommending', 'coords', 'microwaves', 'surveyors']\n",
      "4 comp.sys.ibm.pc.hardware\n",
      "most useful words\n",
      "['fasst', 'jmarttila', 'usma', 'rll', 'fdisk']\n",
      "least useful words\n",
      "['vijay', 'emisions', 'eaton', 'woodard', 'juhan']\n",
      "5 comp.sys.mac.hardware\n",
      "most useful words\n",
      "['adb', 'iivx', 'bmug', 'lciii', 'iisi']\n",
      "least useful words\n",
      "['vijay', 'demondulator', 'downconversion', 'ackermann', 'inverting']\n",
      "6 comp.windows.x\n",
      "most useful words\n",
      "['argv', 'oname', 'ndet', 'xdm', 'args']\n",
      "least useful words\n",
      "['vijay', 'rafters', 'entrances', 'nmw', 'furnace']\n",
      "7 misc.forsale\n",
      "most useful words\n",
      "['keown', 'punisher', 'liefeld', 'sabretooth', 'wolverine']\n",
      "least useful words\n",
      "['archive', 'poeldvere', 'jakobi', 'estonia', 'conductance']\n",
      "8 rec.autos\n",
      "most useful words\n",
      "['buick', 'infiniti', 'corvette', 'opel', 'geico']\n",
      "least useful words\n",
      "['etrbom', 'recchi', 'fedyk', 'galley', 'eklund']\n",
      "9 rec.motorcycles\n",
      "most useful words\n",
      "['blaine', 'motorcycling', 'cookson', 'countersteering', 'biker']\n",
      "least useful words\n",
      "['vijay', 'propranolol', 'psychogenic', 'lungs', 'inmet']\n",
      "10 rec.sport.baseball\n",
      "most useful words\n",
      "['hirschbeck', 'mattingly', 'rbi', 'alomar', 'pitcher']\n",
      "least useful words\n",
      "['vijay', 'inkjets', 'downloadable', 'cablevision', 'dissimilar']\n",
      "11 rec.sport.hockey\n",
      "most useful words\n",
      "['ahl', 'bruins', 'nyr', 'leafs', 'nhl']\n",
      "least useful words\n",
      "['vijay', 'chiggers', 'affliction', 'gainesville', 'chigger']\n",
      "12 sci.crypt\n",
      "most useful words\n",
      "['cryptographic', 'plaintext', 'denning', 'crypt', 'ripem']\n",
      "least useful words\n",
      "['vijay', 'psychiatric', 'enacted', 'neurology', 'neurologist']\n",
      "13 sci.electronics\n",
      "most useful words\n",
      "['deaddio', 'capacitors', 'bubblejets', 'cmkrnl', 'adcom']\n",
      "least useful words\n",
      "['archive', 'nfpa', 'schwan', 'vacate', 'inspectors']\n",
      "14 sci.med\n",
      "most useful words\n",
      "['antibiotic', 'antibiotics', 'hicnet', 'dyer', 'candida']\n",
      "least useful words\n",
      "['vijay', 'cryptophone', 'cylink', 'laissez', 'blames']\n",
      "15 sci.space\n",
      "most useful words\n",
      "['ssto', 'prb', 'nsmca', 'baalke', 'orbiter']\n",
      "least useful words\n",
      "['vijay', 'keyspaces', 'disctribution', 'usenetters', 'lawfulness']\n",
      "16 soc.religion.christian\n",
      "most useful words\n",
      "['ahmadiyya', 'arsenokoitai', 'jayne', 'clh', 'athos']\n",
      "least useful words\n",
      "['archive', 'casserole', 'tlu', 'gic', 'ethridge']\n",
      "17 talk.politics.guns\n",
      "most useful words\n",
      "['shotguns', 'rutledge', 'thomasp', 'kratz', 'homicides']\n",
      "least useful words\n",
      "['vijay', 'slogans', 'shiriff', 'speculates', 'selectively']\n",
      "18 talk.politics.mideast\n",
      "most useful words\n",
      "['gaza', 'serdar', 'israelis', 'argic', 'istanbul']\n",
      "least useful words\n",
      "['vijay', 'redpoll', 'depew', 'corrosive', 'eichener']\n",
      "19 talk.politics.misc\n",
      "most useful words\n",
      "['schnopia', 'locutus', 'hendricks', 'steveh', 'stephanopoulos']\n",
      "least useful words\n",
      "['archive', 'behavioural', 'jhan', 'dgbt', 'vunerable']\n",
      "20 talk.religion.misc\n",
      "most useful words\n",
      "['caligiuri', 'mcconkie', 'zoroastrians', 'zarathushtra', 'royalroads']\n",
      "least useful words\n",
      "['vijay', 'beersheba', 'pasture', 'derby', 'sscl']\n"
     ]
    }
   ],
   "source": [
    "vocab_df = pd.read_csv('../res/vocabulary.txt', sep='\\n', header=None, names=[\"word\"])\n",
    "doc_class_df = pd.read_csv('../res/newsgrouplabels.txt', sep='\\n', header=None, names=[\"doc_class\"])\n",
    "#loading\n",
    "print_mutual_results(mutual_results, vocab_df, doc_class_df)"
   ]
  },
  {
   "cell_type": "markdown",
   "metadata": {},
   "source": [
    "## Naive Bayes\n",
    "formula from the proj2 PDF"
   ]
  },
  {
   "cell_type": "code",
   "execution_count": null,
   "metadata": {
    "pycharm": {
     "name": "#%%\n"
    }
   },
   "outputs": [],
   "source": [
    "def multinomial_naive_bayes(row, row_total_words, alpha, debug_prints = False)->int:\n",
    "    if debug_prints: print(row_total_words, row)\n",
    "        \n",
    "    k = alpha - 1\n",
    "    map_denom = np.zeros(21, dtype = np.float64)\n",
    "    for i in range(1, 21):\n",
    "        map_denom[i] = sparse_training_data[i].sum() + (k * TOTAL_VOCAB)\n",
    "        \n",
    "    max_prob_class = [float('-inf'), -1]\n",
    "    for doc_label in range(1, 21):\n",
    "        running_sum = 0\n",
    "        for word_i, num_words_at_i in row:\n",
    "            running_sum += np.log2((sparse_training_data[doc_label, word_i] + k)/map_denom[doc_label])\n",
    "        posterior = running_sum + np.log2(prior_counts[doc_label])\n",
    "        if posterior > max_prob_class[0]:\n",
    "            max_prob_class[0] = posterior\n",
    "            max_prob_class[1] = doc_label\n",
    "\n",
    "    if debug_prints: print(max_prob_class)\n",
    "    return max_prob_class[1]"
   ]
  },
  {
   "cell_type": "code",
   "execution_count": null,
   "metadata": {
    "pycharm": {
     "name": "#%%\n"
    }
   },
   "outputs": [],
   "source": [
    "def bernoulli_naive_bayes(row, row_total_words, alpha, debug_prints = False)->int:\n",
    "    if debug_prints: print(row_total_words, row)\n",
    "    \n",
    "    # num_zeros = UNIQUE_VOCAB - len(row)\n",
    "    max_prob_class = [float('-inf'), -1]\n",
    "    # k = alpha - 1\n",
    "\n",
    "    # prob_not_appearing = (0+k) / denom\n",
    "    # # prob_of_doc = 1/20  # Not needed because all will be multiplied by it\n",
    "    # unique_words  = 0\n",
    "    for doc_label in range(1, 21):\n",
    "        running_sum = 0\n",
    "        # for word_i, num_words_at_i in row:\n",
    "        #     pass\n",
    "        \n",
    "        posterior = running_sum\n",
    "        if posterior > max_prob_class[0]:\n",
    "            max_prob_class[0] = posterior\n",
    "            max_prob_class[1] = doc_label\n",
    "\n",
    "    if debug_prints: print(max_prob_class)\n",
    "    return max_prob_class[1]"
   ]
  },
  {
   "cell_type": "markdown",
   "metadata": {},
   "source": [
    "### Training Test"
   ]
  },
  {
   "cell_type": "code",
   "execution_count": null,
   "metadata": {
    "pycharm": {
     "name": "#%%\n"
    }
   },
   "outputs": [],
   "source": [
    "def test_training(bayes_function, alpha):\n",
    "    sparse_matrix = sparse.load_npz('../res/nb_training_data.npz')\n",
    "    training_data_coo = sparse_matrix.tocoo()\n",
    "    \n",
    "    row_total_words = training_data_coo.A.sum(axis=1)\n",
    "    correct = 0\n",
    "    row = []\n",
    "    row_i = 0\n",
    "    for row_i, word_i, val in zip(training_data_coo.row, training_data_coo.col, training_data_coo.data):\n",
    "        if word_i != 61188:\n",
    "            \n",
    "            row.append((word_i, val))\n",
    "        else:\n",
    "            classification = bayes_function(row, row_total_words[row_i] - val, alpha=alpha)\n",
    "            correct += 1 if classification == val else 0\n",
    "            row.clear()\n",
    "            if not row_i % 500:\n",
    "                print('At row:', row_i)\n",
    "    print(\"Finished\")\n",
    "    print(f\"accuracy: {(correct / row_i) * 100}%\")"
   ]
  },
  {
   "cell_type": "markdown",
   "metadata": {},
   "source": [
    "## Classification and Writing"
   ]
  },
  {
   "cell_type": "code",
   "execution_count": null,
   "metadata": {
    "pycharm": {
     "name": "#%%\n"
    }
   },
   "outputs": [],
   "source": [
    "def test_and_write(bayes_function, write_path, alpha):\n",
    "    sparse_matrix = sparse.load_npz('../res/nb_testing_data.npz')\n",
    "    testing_data_coo = sparse_matrix.tocoo()\n",
    "    with open(write_path, 'w') as out_stream:\n",
    "        out_stream.write(\"id,class\\n\")\n",
    "    \n",
    "        row_total_words = testing_data_coo.A.sum(axis=1)\n",
    "        row_offset = 12000\n",
    "        current_row = 12000\n",
    "        row = []\n",
    "        for row_i, word_i, num_words_at_i in zip(testing_data_coo.row + row_offset, testing_data_coo.col, testing_data_coo.data):\n",
    "            if row_i == current_row:\n",
    "                row.append((word_i, num_words_at_i))\n",
    "            else:\n",
    "                predicted_label = bayes_function(row, row_total_words[row_i - row_offset], alpha=alpha)\n",
    "                out_stream.write(f'{row_i},{predicted_label}\\n')\n",
    "                row.clear()\n",
    "                current_row = row_i\n",
    "                if not current_row % 500:\n",
    "                    print('At row:', current_row)\n",
    "    print(\"File written\")"
   ]
  },
  {
   "cell_type": "markdown",
   "metadata": {},
   "source": [
    "## Testing\n",
    "- multinomial"
   ]
  },
  {
   "cell_type": "code",
   "execution_count": null,
   "metadata": {
    "pycharm": {
     "name": "#%%\n"
    }
   },
   "outputs": [],
   "source": [
    "b = .004 # BETA: Tried -> 1/TOTAL_VOCAB, .00001, .0001, .001, .01, .1, 1\n",
    "a = 1 + b  # ALPHA"
   ]
  },
  {
   "cell_type": "code",
   "execution_count": null,
   "metadata": {
    "pycharm": {
     "name": "#%%\n"
    }
   },
   "outputs": [],
   "source": [
    "start = timeit.default_timer()\n",
    "\n",
    "print('beta:', b)\n",
    "test_training(multinomial_naive_bayes, alpha=a)\n",
    "\n",
    "stop = timeit.default_timer()\n",
    "print('Time: ', (stop - start) / 60, 'minutes.') "
   ]
  },
  {
   "cell_type": "code",
   "execution_count": null,
   "metadata": {
    "pycharm": {
     "name": "#%%\n"
    }
   },
   "outputs": [],
   "source": [
    "start = timeit.default_timer()\n",
    "\n",
    "print('beta:', b)\n",
    "file_path = '../results/multinomial_NB_b' + str(b)[(2 if b < 1 else 0) :] +'_results.csv'\n",
    "test_and_write(multinomial_naive_bayes, file_path, alpha=a)\n",
    "\n",
    "stop = timeit.default_timer()\n",
    "print('Time: ', (stop - start) / 60, 'minutes.') "
   ]
  },
  {
   "cell_type": "markdown",
   "metadata": {},
   "source": [
    "- Bernoulli"
   ]
  },
  {
   "cell_type": "code",
   "execution_count": null,
   "metadata": {
    "pycharm": {
     "name": "#%%\n"
    }
   },
   "outputs": [],
   "source": [
    "start = timeit.default_timer()\n",
    "\n",
    "print('beta:', b)\n",
    "test_training(bernoulli_naive_bayes, alpha=a)\n",
    "\n",
    "stop = timeit.default_timer()\n",
    "print('Time: ', (stop - start) / 60, 'minutes.') "
   ]
  },
  {
   "cell_type": "code",
   "execution_count": null,
   "metadata": {
    "pycharm": {
     "name": "#%%\n"
    }
   },
   "outputs": [],
   "source": [
    "# \n",
    "start = timeit.default_timer()\n",
    "\n",
    "print('beta:', b)\n",
    "file_path = '../results/bernoulli_NB_b' + str(b)[(2 if b < 1 else 0) :] +'_results.csv'\n",
    "test_and_write(bernoulli_naive_bayes, file_path, alpha=a)\n",
    "\n",
    "stop = timeit.default_timer()\n",
    "print('Time: ', (stop - start) / 60, 'minutes.') "
   ]
  },
  {
   "cell_type": "markdown",
   "metadata": {
    "pycharm": {
     "name": "#%% md\n"
    }
   },
   "source": [
    "## Plots"
   ]
  },
  {
   "cell_type": "code",
   "execution_count": 43,
   "metadata": {
    "pycharm": {
     "is_executing": false,
     "name": "#%%\n"
    }
   },
   "outputs": [
    {
     "data": {
      "text/plain": [
       "Text(0, 0.5, 'Accuracy')"
      ]
     },
     "execution_count": 43,
     "metadata": {},
     "output_type": "execute_result"
    },
    {
     "data": {
      "image/png": "[encoded data removed]",
      "text/plain": [
       "<Figure size 432x288 with 1 Axes>"
      ]
     },
     "metadata": {
      "needs_background": "light"
     },
     "output_type": "display_data"
    }
   ],
   "source": [
    "betas_x = [1/TOTAL_VOCAB, .0001, .001, .004, .01, .1, 1]\n",
    "accuracies_y = [.856, .87, .873, .877, .874, .808, .59]\n",
    "\n",
    "plt.semilogx(betas_x, accuracies_y, 'black')\n",
    "plt.xlabel('Beta')\n",
    "plt.ylabel('Accuracy')"
   ]
  }
 ],
 "metadata": {
  "kernelspec": {
   "display_name": "Python 3",
   "language": "python",
   "name": "python3"
  },
  "language_info": {
   "codemirror_mode": {
    "name": "ipython",
    "version": 3
   },
   "file_extension": ".py",
   "mimetype": "text/x-python",
   "name": "python",
   "nbconvert_exporter": "python",
   "pygments_lexer": "ipython3",
   "version": "3.7.3"
  },
  "pycharm": {
   "stem_cell": {
    "cell_type": "raw",
    "metadata": {
     "collapsed": false
    },
    "source": []
   }
  }
 },
 "nbformat": 4,
 "nbformat_minor": 2
}
