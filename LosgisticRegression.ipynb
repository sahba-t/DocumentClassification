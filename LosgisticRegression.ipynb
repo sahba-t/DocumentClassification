{
 "cells": [
  {
   "cell_type": "markdown",
   "metadata": {
    "collapsed": false
   },
   "source": [
    "## Imports"
   ]
  },
  {
   "cell_type": "code",
   "execution_count": 1,
   "metadata": {},
   "outputs": [],
   "source": [
    "import pandas as pd\n",
    "import numpy as np\n",
    "from scipy import sparse\n",
    "from scipy.sparse import csr_matrix, lil_matrix\n",
    "import pickle\n",
    "import math"
   ]
  },
  {
   "cell_type": "markdown",
   "metadata": {
    "collapsed": false
   },
   "source": [
    "## Global Container"
   ]
  },
  {
   "cell_type": "code",
   "execution_count": 3,
   "metadata": {},
   "outputs": [
    {
     "name": "stdout",
     "output_type": "stream",
     "text": "(20, 61188)\n  (0, 11)\t5\n  (0, 22)\t2\n  (0, 28)\t13\n  (0, 29)\t4\n  (0, 32)\t10\n  (0, 41)\t5\n  (0, 47)\t2\n  (0, 50)\t1\n  (0, 59)\t4\n  (0, 71)\t1\n  (0, 80)\t4\n  (0, 101)\t1\n  (0, 103)\t5\n  (0, 115)\t1\n  (0, 121)\t1\n  (0, 143)\t1\n  (0, 232)\t1\n  (0, 238)\t3\n  (0, 250)\t3\n  (0, 303)\t2\n  (0, 354)\t1\n  (0, 405)\t1\n  (0, 418)\t1\n  (0, 455)\t1\n  (0, 464)\t1\n  :\t:\n  (11999, 1848)\t1\n  (11999, 2308)\t1\n  (11999, 2821)\t2\n  (11999, 3108)\t1\n  (11999, 3304)\t1\n  (11999, 3404)\t1\n  (11999, 3599)\t1\n  (11999, 3757)\t1\n  (11999, 4017)\t1\n  (11999, 4334)\t1\n  (11999, 4453)\t1\n  (11999, 5508)\t1\n  (11999, 6922)\t1\n  (11999, 7949)\t2\n  (11999, 8041)\t3\n  (11999, 8091)\t1\n  (11999, 8999)\t1\n  (11999, 9174)\t2\n  (11999, 9916)\t1\n  (11999, 12664)\t1\n  (11999, 12665)\t1\n  (11999, 21915)\t1\n  (11999, 33131)\t1\n  (11999, 33158)\t1\n  (11999, 39939)\t1\n"
    }
   ],
   "source": [
    "n = 61188\n",
    "training_labels = np.load('lr_labels.npy')\n",
    "weights_matrix = np.random.rand(20, n)\n",
    "weights_sparse = sparse.csr_matrix(weights_matrix)\n",
    "training_data_sparse = sparse.load_npz('lr_training_data.npz')\n",
    "print(sparse_weights.shape)\n",
    "print(training_data_sparse)\n",
    "# print(sparse_training_data.shape)\n"
   ]
  },
  {
   "cell_type": "markdown",
   "metadata": {},
   "source": [
    "## Loading the matrix"
   ]
  },
  {
   "cell_type": "code",
   "execution_count": null,
   "metadata": {},
   "outputs": [],
   "source": [
    "training_data_sparse = sparse.load_npz('lr_training_data.npz')"
   ]
  },
  {
   "cell_type": "markdown",
   "metadata": {
    "collapsed": false
   },
   "source": [
    "## Helper Functions"
   ]
  },
  {
   "cell_type": "code",
   "execution_count": null,
   "metadata": {
    "collapsed": false,
    "pycharm": {
     "name": "#%%\n"
    }
   },
   "outputs": [],
   "source": []
  }
 ],
 "metadata": {
  "kernelspec": {
   "name": "python3",
   "language": "python",
   "display_name": "Python 3"
  },
  "language_info": {
   "codemirror_mode": {
    "name": "ipython",
    "version": 3
   },
   "file_extension": ".py",
   "mimetype": "text/x-python",
   "name": "python",
   "nbconvert_exporter": "python",
   "pygments_lexer": "ipython3",
   "version": "3.7.3-final"
  },
  "pycharm": {
   "stem_cell": {
    "cell_type": "raw",
    "source": [],
    "metadata": {
     "collapsed": false
    }
   }
  }
 },
 "nbformat": 4,
 "nbformat_minor": 2
}