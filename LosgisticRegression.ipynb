{
 "cells": [
  {
   "cell_type": "markdown",
   "source": [
    "## Imports"
   ],
   "metadata": {
    "collapsed": false
   }
  },
  {
   "cell_type": "code",
   "execution_count": 1,
   "outputs": [],
   "source": [
    "import pandas as pd\n",
    "import numpy as np\n",
    "from scipy import sparse\n",
    "from scipy.sparse import csr_matrix, lil_matrix\n",
    "import pickle\n",
    "import math"
   ],
   "metadata": {
    "collapsed": false,
    "pycharm": {
     "name": "#%%\n",
     "is_executing": false
    }
   }
  },
  {
   "cell_type": "markdown",
   "source": [
    "## Creating global containers for holding stats"
   ],
   "metadata": {
    "collapsed": false
   }
  },
  {
   "cell_type": "code",
   "execution_count": 5,
   "outputs": [
    {
     "name": "stdout",
     "text": [
      "[[0.09205118 0.3246045  0.58871842 ... 0.9031311  0.36886161 0.80232555]\n",
      " [0.46682913 0.34883097 0.5903606  ... 0.77611167 0.53929132 0.87098131]\n",
      " [0.88643658 0.30520703 0.68186699 ... 0.43281215 0.29342336 0.09643033]\n",
      " ...\n",
      " [0.29728378 0.55925738 0.72654318 ... 0.34723186 0.88084276 0.03567184]\n",
      " [0.30573294 0.40492784 0.90927709 ... 0.29228023 0.3350636  0.03065301]\n",
      " [0.03564761 0.44471199 0.732939   ... 0.0719653  0.30122581 0.0956072 ]]\n",
      "4336\n"
     ],
     "output_type": "stream"
    }
   ],
   "source": [
    "n = 61188\n",
    "weights = np.random.rand(20, n)\n",
    "print(weights)\n",
    "sparse_training_data = sparse.load_npz('sparse_training.data.npz')\n",
    "print(sparse_training_data[1,11])\n"
   ],
   "metadata": {
    "collapsed": false,
    "pycharm": {
     "name": "#%%\n",
     "is_executing": false
    }
   }
  }
 ],
 "metadata": {
  "kernelspec": {
   "name": "python3",
   "language": "python",
   "display_name": "Python 3"
  },
  "language_info": {
   "codemirror_mode": {
    "name": "ipython",
    "version": 3
   },
   "file_extension": ".py",
   "mimetype": "text/x-python",
   "name": "python",
   "nbconvert_exporter": "python",
   "pygments_lexer": "ipython3",
   "version": "3.7.3"
  },
  "pycharm": {
   "stem_cell": {
    "cell_type": "raw",
    "source": [],
    "metadata": {
     "collapsed": false
    }
   }
  }
 },
 "nbformat": 4,
 "nbformat_minor": 2
}