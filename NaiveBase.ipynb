{
 "cells": [
  {
   "cell_type": "markdown",
   "metadata": {},
   "source": [
    "## Imports"
   ]
  },
  {
   "cell_type": "code",
   "execution_count": 3,
   "metadata": {},
   "outputs": [],
   "source": [
    "import pandas as pd\n",
    "import numpy as np"
   ]
  },
  {
   "cell_type": "markdown",
   "metadata": {},
   "source": [
    "## Expoloring Data Import and Manipulation"
   ]
  },
  {
   "cell_type": "code",
   "execution_count": 4,
   "metadata": {},
   "outputs": [],
   "source": [
    "# The traing data is so big, we cannot bring it in all ar once (12000 * 61190)\n",
    "# I think when training We hace to go portion by portion, keep the stats, free the mem and read the next part\n",
    "# there might be a better way also,but we can test with a small portion for now\n",
    "train_df = pd.read_csv('training.csv', header=None, nrows=200)\n",
    "\n",
    "#Testing set is 6774 * 61189"
   ]
  },
  {
   "cell_type": "markdown",
   "metadata": {},
   "source": [
    "## Counting Priors"
   ]
  },
  {
   "cell_type": "code",
   "execution_count": 14,
   "metadata": {},
   "outputs": [],
   "source": [
    "column_names =  ['doc_id'] + list(range(1,61189)) + ['label']\n",
    "prior_counts = [0] * 21\n",
    "for data_chunk in pd.read_csv('training.csv', header=None, chunksize=200, names=column_names, usecols=['label']):\n",
    "    for _, row in data_chunk.iterrows():\n",
    "        prior_counts [row['label']] += 1\n"
   ]
  },
  {
   "cell_type": "code",
   "execution_count": 15,
   "metadata": {},
   "outputs": [
    {
     "name": "stdout",
     "output_type": "stream",
     "text": "[0, 483, 624, 622, 643, 602, 630, 618, 614, 649, 628, 646, 639, 626, 621, 637, 651, 580, 593, 467, 427]\n"
    }
   ],
   "source": [
    "print(prior_counts)"
   ]
  },
  {
   "cell_type": "code",
   "execution_count": 8,
   "metadata": {},
   "outputs": [
    {
     "name": "stdout",
     "output_type": "stream",
     "text": "16    19\n6     16\n3     14\n12    14\n7     14\n5     12\n4     11\n8     10\n17    10\n10     9\n1      9\n13     9\n11     8\n2      8\n14     7\n15     7\n20     7\n18     6\n9      5\n19     5\nName: label, dtype: int64\n"
    }
   ],
   "source": [
    "train_df.columns = ['doc_id'] + list(range(1,61189)) + ['label']\n",
    "print(train_df['label'].value_counts())"
   ]
  }
 ],
 "metadata": {
  "kernelspec": {
   "display_name": "Python 3.7.3 64-bit ('base': conda)",
   "language": "python",
   "name": "python37364bitbaseconda88c4e0197d3a49879326dc8e8d480baa"
  },
  "language_info": {
   "codemirror_mode": {
    "name": "ipython",
    "version": 3
   },
   "file_extension": ".py",
   "mimetype": "text/x-python",
   "name": "python",
   "nbconvert_exporter": "python",
   "pygments_lexer": "ipython3",
   "version": "3.7.3-final"
  }
 },
 "nbformat": 4,
 "nbformat_minor": 2
}