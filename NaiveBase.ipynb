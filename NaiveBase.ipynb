{
 "cells": [
  {
   "cell_type": "markdown",
   "metadata": {},
   "source": [
    "## Imports"
   ]
  },
  {
   "cell_type": "code",
   "execution_count": 2,
   "metadata": {},
   "outputs": [],
   "source": [
    "import pandas as pd\n",
    "import numpy as np"
   ]
  },
  {
   "cell_type": "markdown",
   "metadata": {},
   "source": [
    "## Expoloring Data Import and Manipulation"
   ]
  },
  {
   "cell_type": "code",
   "execution_count": 9,
   "metadata": {},
   "outputs": [],
   "source": [
    "# The traing data is so big, we cannot bring it in all ar once (12000 * 61190)\n",
    "# I think when training We hace to go portion by portion, keep the stats, free the mem and read the next part\n",
    "# there might be a better way also,but we can test with a small portion for now\n",
    "train_df = pd.read_csv('training.csv', header=None, nrows=200)\n",
    "\n",
    "#Testing set is 6774 * 61189"
   ]
  },
  {
   "cell_type": "code",
   "execution_count": 11,
   "metadata": {},
   "outputs": [
    {
     "data": {
      "text/plain": [
       "16    19\n",
       "6     16\n",
       "3     14\n",
       "12    14\n",
       "7     14\n",
       "5     12\n",
       "4     11\n",
       "8     10\n",
       "17    10\n",
       "10     9\n",
       "1      9\n",
       "13     9\n",
       "11     8\n",
       "2      8\n",
       "14     7\n",
       "15     7\n",
       "20     7\n",
       "18     6\n",
       "9      5\n",
       "19     5\n",
       "Name: label, dtype: int64"
      ]
     },
     "execution_count": 11,
     "metadata": {},
     "output_type": "execute_result"
    }
   ],
   "source": [
    "train_df.columns = ['doc_id'] + list(range(1,61189)) + ['label']\n",
    "train_df['label'].value_counts()"
   ]
  }
 ],
 "metadata": {
  "kernelspec": {
   "display_name": "Python 3.7.3 64-bit ('base': conda)",
   "language": "python",
   "name": "python37364bitbaseconda88c4e0197d3a49879326dc8e8d480baa"
  },
  "language_info": {
   "codemirror_mode": {
    "name": "ipython",
    "version": 3
   },
   "file_extension": ".py",
   "mimetype": "text/x-python",
   "name": "python",
   "nbconvert_exporter": "python",
   "pygments_lexer": "ipython3",
   "version": "3.7.3"
  }
 },
 "nbformat": 4,
 "nbformat_minor": 2
}
